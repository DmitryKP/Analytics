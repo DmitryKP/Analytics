{
 "cells": [
  {
   "cell_type": "code",
   "execution_count": null,
   "metadata": {},
   "outputs": [],
   "source": [
    "import pandas as pd\n",
    "import numpy as np\n",
    "import datetime\n",
    "import io\n",
    "import os\n",
    "import glob\n",
    "import sys\n",
    "from googleads import adwords\n",
    "from datetime import datetime, timedelta\n",
    "\n",
    "\n",
    "output= io.StringIO()\n",
    "\n",
    "adwords_client = adwords.AdWordsClient.LoadFromStorage('xxx.yaml')\n",
    "\n",
    "adwords_client.SetClientCustomerId('xxx')\n",
    "\n",
    "report_downloader = adwords_client.GetReportDownloader(version='v201809')\n",
    "\n",
    "#https://developers.google.com/adwords/api/docs/appendix/reports/url-performance-report\n",
    "#https://developers.google.com/adwords/api/docs/guides/awql?hl=ru\n",
    "\n",
    "report_query = (adwords.ReportQueryBuilder()\n",
    "                  .Select('CampaignId', 'CampaignName','AdGroupId','AdGroupName','Domain','Url','Device',\n",
    "                          'Impressions','Clicks','Interactions','Cost','Conversions')\n",
    "                  .From('URL_PERFORMANCE_REPORT')\n",
    "                  .Where('CampaignStatus').In('ENABLED')\n",
    "                  .During('LAST_7_DAYS') \n",
    "                  .Build())\n",
    "\n",
    "report_downloader.DownloadReportWithAwql(report_query, 'CSV', output, skip_report_header=True,\n",
    "          skip_column_header=False, skip_report_summary=True,\n",
    "          include_zero_impressions=False)\n",
    "\n",
    "output.seek(0)\n",
    "\n",
    "types= { 'CampaignId':pd.np.int64, 'Clicks': pd.np.float64, 'Impressions': pd.np.float64,\n",
    "         'Cost': pd.np.float64,'Conversions': pd.np.float64,'ConversionValue': pd.np.float64 }\n",
    "\n",
    "df = pd.read_csv(output,low_memory=False, dtype= types, na_values=[' --'])\n",
    "\n",
    "df['Cost'] = df['Cost'] / 1000000"
   ]
  },
  {
   "cell_type": "code",
   "execution_count": null,
   "metadata": {},
   "outputs": [],
   "source": [
    "df"
   ]
  },
  {
   "cell_type": "code",
   "execution_count": null,
   "metadata": {},
   "outputs": [],
   "source": [
    "df_KMS = df[~df['Domain'].str.contains('mobileapp')].sort_values('Impressions',ascending = False)\n",
    "df_MA = df[df['Domain'].str.contains('mobileapp')].sort_values('Impressions',ascending = False)"
   ]
  },
  {
   "cell_type": "code",
   "execution_count": null,
   "metadata": {},
   "outputs": [],
   "source": [
    "ma_list = []\n",
    "for e in list(df_MA['Domain']):\n",
    "    ma_list.append(e.split('mobileapp::')[1])\n",
    "    \n",
    "pd.Series(list(set(ma_list))).to_excel('MobApp.xlsx',index=False)"
   ]
  },
  {
   "cell_type": "code",
   "execution_count": null,
   "metadata": {},
   "outputs": [],
   "source": [
    "df_MA.to_excel('MobApp.xlsx',index=False)"
   ]
  },
  {
   "cell_type": "code",
   "execution_count": null,
   "metadata": {},
   "outputs": [],
   "source": []
  },
  {
   "cell_type": "code",
   "execution_count": null,
   "metadata": {},
   "outputs": [],
   "source": []
  },
  {
   "cell_type": "code",
   "execution_count": null,
   "metadata": {},
   "outputs": [],
   "source": []
  }
 ],
 "metadata": {
  "kernelspec": {
   "display_name": "Python 3",
   "language": "python",
   "name": "python3"
  },
  "language_info": {
   "codemirror_mode": {
    "name": "ipython",
    "version": 3
   },
   "file_extension": ".py",
   "mimetype": "text/x-python",
   "name": "python",
   "nbconvert_exporter": "python",
   "pygments_lexer": "ipython3",
   "version": "3.6.8"
  }
 },
 "nbformat": 4,
 "nbformat_minor": 2
}
