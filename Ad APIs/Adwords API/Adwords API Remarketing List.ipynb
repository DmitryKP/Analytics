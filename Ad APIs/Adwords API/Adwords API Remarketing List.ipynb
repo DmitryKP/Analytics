{
 "cells": [
  {
   "cell_type": "code",
   "execution_count": null,
   "metadata": {},
   "outputs": [],
   "source": [
    "# -*- coding: utf-8 -*-\n",
    "import pandas as pd\n",
    "import numpy as np\n",
    "import datetime\n",
    "import io\n",
    "import os\n",
    "import glob\n",
    "import sys\n",
    "from googleads import adwords\n",
    "from datetime import datetime, timedelta\n",
    "import hashlib\n",
    "import uuid\n",
    "\n",
    "#https://developers.google.com/adwords/api/docs/samples/python/remarketing\n",
    "\n",
    "def NormalizeAndSHA256(s):\n",
    "    \n",
    "    return hashlib.sha256(s.strip().lower()).hexdigest()\n",
    "\n",
    "\n",
    "output= io.StringIO()\n",
    "\n",
    "adwords_client = adwords.AdWordsClient.LoadFromStorage('xxx.yaml')\n",
    "\n",
    "adwords_client.SetClientCustomerId('xxx')\n",
    "\n",
    "user_list_service = adwords_client.GetService('AdwordsUserListService', 'v201809')\n",
    "\n",
    "user_list = {\n",
    "  'xsi_type': 'CrmBasedUserList',\n",
    "  'name': 'Триггерное взаимодействие #%d' % uuid.uuid4(),\n",
    "  'description': 'Почты пользователей для триггерного взаимодействия',\n",
    "  # CRM-based user lists can use a membershipLifeSpan of 10000 to indicate\n",
    "  # unlimited; otherwise normal values apply.\n",
    "  'membershipLifeSpan': 30,\n",
    "  'uploadKeyType': 'CONTACT_INFO'\n",
    "}\n",
    "\n",
    "operations = [{\n",
    "  'operator': 'ADD',\n",
    "  'operand': user_list\n",
    "}]\n",
    "\n",
    "result = user_list_service.mutate(operations)\n",
    "user_list_id = result['value'][0]['id']\n",
    "\n",
    "\n",
    "emails = ['customer1@example.com', 'customer2@example.com',\n",
    "        ' Customer3@example.com ']\n",
    "members = [{'hashedEmail': NormalizeAndSHA256(email.encode('utf-8'))} for email in emails]\n"
   ]
  },
  {
   "cell_type": "code",
   "execution_count": null,
   "metadata": {},
   "outputs": [],
   "source": [
    "mutate_members_operation"
   ]
  },
  {
   "cell_type": "code",
   "execution_count": null,
   "metadata": {},
   "outputs": [],
   "source": [
    "#members.append({\n",
    "#  'addressInfo': {\n",
    "#      # First and last name must be normalized and hashed.\n",
    "#      'hashedFirstName': NormalizeAndSHA256('John'.encode('utf-8')),\n",
    "#      'hashedLastName': NormalizeAndSHA256('Doe'.encode('utf-8')),\n",
    "#      # Country code and zip code are sent in plaintext.\n",
    "#      'countryCode': 'US',\n",
    "#      'zipCode': '10001'\n",
    "#  }\n",
    "#})\n",
    "\n",
    "\n",
    "mutate_members_operation = {\n",
    "  'operand': {\n",
    "      'userListId': user_list_id,\n",
    "      'membersList': members\n",
    "  },\n",
    "  'operator': 'ADD'\n",
    "}"
   ]
  },
  {
   "cell_type": "code",
   "execution_count": null,
   "metadata": {},
   "outputs": [],
   "source": [
    "response = user_list_service.mutateMembers([mutate_members_operation])"
   ]
  },
  {
   "cell_type": "code",
   "execution_count": null,
   "metadata": {},
   "outputs": [],
   "source": [
    "if 'userLists' in response:\n",
    "    for user_list in response['userLists']:\n",
    "        print('User list with name \"{}\" and ID \"%{}\" was added'.format(user_list['name'], user_list['id']))\n",
    "\n",
    "#https://ads.google.com/aw/audiences/management?ocid=82065735&euid=237824820&__u=8323372180&uscid=82065735&__c=1792984015&authuser=0"
   ]
  },
  {
   "cell_type": "code",
   "execution_count": null,
   "metadata": {},
   "outputs": [],
   "source": []
  }
 ],
 "metadata": {
  "kernelspec": {
   "display_name": "Python 3",
   "language": "python",
   "name": "python3"
  },
  "language_info": {
   "codemirror_mode": {
    "name": "ipython",
    "version": 3
   },
   "file_extension": ".py",
   "mimetype": "text/x-python",
   "name": "python",
   "nbconvert_exporter": "python",
   "pygments_lexer": "ipython3",
   "version": "3.6.8"
  }
 },
 "nbformat": 4,
 "nbformat_minor": 2
}
