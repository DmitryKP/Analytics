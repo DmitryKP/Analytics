{
 "cells": [
  {
   "cell_type": "code",
   "execution_count": null,
   "metadata": {},
   "outputs": [],
   "source": [
    "from facebook_business.api import FacebookAdsApi\n",
    "from facebook_business import adobjects\n",
    "from facebook_business.adobjects.adaccountuser import AdAccountUser\n",
    "from facebook_business.adobjects.campaign import Campaign\n",
    "from facebook_business.adobjects.adaccount import AdAccount\n",
    "from facebook_business.adobjects.adsinsights import AdsInsights\n",
    "from facebook_business.adobjects.adreportrun import AdReportRun\n",
    "from facebook_business.adobjects.customaudience import CustomAudience\n",
    "import pandas as pd\n",
    "\n",
    "#https://developers.facebook.com/docs/marketing-api/reference/ad-account/customaudiences/\n",
    "#https://developers.facebook.com/docs/marketing-api/audiences-api/\n",
    "#https://github.com/facebook/facebook-python-business-sdk/blob/master/examples/custom_audience_utils.py\n",
    "#https://graph.facebook.com/v2.10/oauth/access_token?grant_type=fb_exchange_token&client_id=1591231484343252&client_secret=54b655caf3c023c853c6131f749b5821&fb_exchange_token=здесьSRтокен\n",
    "\n",
    "my_app_id = 'xxx'\n",
    "my_app_secret = 'xxx'\n",
    "my_access_token = 'xxx'\n",
    "FacebookAdsApi.init(my_app_id, my_app_secret, my_access_token)\n",
    "\n",
    "me = AdAccountUser(fbid='me')\n",
    "adAccounts = me.get_ad_accounts()\n",
    "print(adAccounts)\n",
    "\n",
    "#ad_account = AdAccount('act_466052887236542')\n",
    "#ads = ad_account.get_ads()"
   ]
  },
  {
   "cell_type": "code",
   "execution_count": null,
   "metadata": {},
   "outputs": [],
   "source": [
    "fields = [\n",
    "]\n",
    "params = {\n",
    "  'name': 'My new Custom Audience',\n",
    "  'subtype': 'CUSTOM',\n",
    "  'description': 'People who purchased on my website',\n",
    "  'customer_file_source': 'USER_PROVIDED_ONLY',\n",
    "}\n",
    "AdAccount('act_1270111019836237').create_custom_audience(fields=fields,params=params)"
   ]
  },
  {
   "cell_type": "code",
   "execution_count": null,
   "metadata": {},
   "outputs": [],
   "source": [
    "AdAccount('act_1270111019836237').get_custom_audiences()"
   ]
  },
  {
   "cell_type": "code",
   "execution_count": null,
   "metadata": {},
   "outputs": [],
   "source": [
    "audience = CustomAudience(\"23844203288660381\")"
   ]
  },
  {
   "cell_type": "code",
   "execution_count": null,
   "metadata": {},
   "outputs": [],
   "source": [
    "import"
   ]
  },
  {
   "cell_type": "code",
   "execution_count": null,
   "metadata": {},
   "outputs": [],
   "source": [
    "f = ['test@mail.ru','test2@mail.ru','test3@mail.ru','test4@mail.ru',]\n",
    "\n",
    "data = [line.strip() for line in f]\n",
    "data"
   ]
  },
  {
   "cell_type": "code",
   "execution_count": null,
   "metadata": {},
   "outputs": [],
   "source": [
    "audience.add_users(CustomAudience.Schema.email_hash, data, app_ids=None)"
   ]
  },
  {
   "cell_type": "code",
   "execution_count": null,
   "metadata": {},
   "outputs": [],
   "source": [
    "f1 = ['+7925862063333','+79258333620630']\n",
    "\n",
    "data1 = [line.strip() for line in f1]\n",
    "data1"
   ]
  },
  {
   "cell_type": "code",
   "execution_count": null,
   "metadata": {},
   "outputs": [],
   "source": [
    "audience.add_users(CustomAudience.Schema.phone_hash, data1, app_ids=None)"
   ]
  },
  {
   "cell_type": "code",
   "execution_count": null,
   "metadata": {},
   "outputs": [],
   "source": [
    "AdAccount('act_1270111019836237').get_custom_audiences(fields=[CustomAudience.Field.name,CustomAudience.Field.description])"
   ]
  },
  {
   "cell_type": "code",
   "execution_count": null,
   "metadata": {},
   "outputs": [],
   "source": []
  }
 ],
 "metadata": {
  "kernelspec": {
   "display_name": "Python 3",
   "language": "python",
   "name": "python3"
  },
  "language_info": {
   "codemirror_mode": {
    "name": "ipython",
    "version": 3
   },
   "file_extension": ".py",
   "mimetype": "text/x-python",
   "name": "python",
   "nbconvert_exporter": "python",
   "pygments_lexer": "ipython3",
   "version": "3.6.8"
  }
 },
 "nbformat": 4,
 "nbformat_minor": 2
}
