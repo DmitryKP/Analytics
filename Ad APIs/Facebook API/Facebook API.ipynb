{
 "cells": [
  {
   "cell_type": "code",
   "execution_count": null,
   "metadata": {},
   "outputs": [],
   "source": [
    "from facebook_business.api import FacebookAdsApi\n",
    "from facebook_business import adobjects\n",
    "from facebook_business.adobjects.adaccountuser import AdAccountUser\n",
    "from facebook_business.adobjects.campaign import Campaign\n",
    "from facebook_business.adobjects.adaccount import AdAccount\n",
    "from facebook_business.adobjects.adsinsights import AdsInsights\n",
    "from facebook_business.adobjects.adreportrun import AdReportRun\n",
    "import pandas as pd\n",
    "\n",
    "my_app_id = 'xxx'\n",
    "my_app_secret = 'xxx'\n",
    "my_access_token = 'xxx'\n",
    "FacebookAdsApi.init(my_app_id, my_app_secret, my_access_token)\n",
    "\n",
    "me = AdAccountUser(fbid='me')\n",
    "adAccounts = me.get_ad_accounts()\n",
    "me.get_ad_accounts()\n",
    "\n",
    "account = AdAccount('act_466052887236542')\n",
    "ads = account.get_ads()\n",
    "\n",
    "sdate=''\n",
    "edate=''\n",
    "print(\"Введи дату начала периода в формате 2019-04-01\")\n",
    "sdate=str(input())\n",
    "print(\"Введи дату конца периода в формате 2019-04-30\")\n",
    "edate=str(input())\n",
    "params = {\n",
    "    'time_range': {\n",
    "        'since':  \"{}\".format(sdate), \n",
    "        'until': \"{}\".format(edate)\n",
    "        }, \n",
    "    'fields': [\n",
    "        AdsInsights.Field.campaign_id,\n",
    "        AdsInsights.Field.campaign_name,\n",
    "        AdsInsights.Field.adset_name,\n",
    "        AdsInsights.Field.ad_name,\n",
    "        AdsInsights.Field.spend,\n",
    "        AdsInsights.Field.impressions,\n",
    "        AdsInsights.Field.clicks,\n",
    "        AdsInsights.Field.buying_type,\n",
    "        AdsInsights.Field.objective,        \n",
    "        AdsInsights.Field.actions,\n",
    "        AdsInsights.Field.cpm,\n",
    "        AdsInsights.Field.account_currency,\n",
    "     ],\n",
    "    'breakdowns': ['publisher_platform'],\n",
    "    'level': 'ad',\n",
    "    'time_increment': 'all_days',\n",
    "}\n"
   ]
  },
  {
   "cell_type": "code",
   "execution_count": null,
   "metadata": {},
   "outputs": [],
   "source": [
    "async_job = account.get_insights_async(fields = params.get('fields'), params=params)"
   ]
  },
  {
   "cell_type": "code",
   "execution_count": null,
   "metadata": {},
   "outputs": [],
   "source": [
    "result = [x for x in async_job.get_result()]\n",
    "df_res = pd.DataFrame(result)\n",
    "\n",
    "all_convs = list(df_res['actions'])\n",
    "conv1 = []\n",
    "for e in all_convs:\n",
    "    if str(e) == 'nan':\n",
    "        conv1.append(0)\n",
    "    else:\n",
    "        test_val=[]\n",
    "        for m in e:\n",
    "            for key, val in m.items():\n",
    "                if val == 'offsite_conversion.custom.1598324666980073':\n",
    "                    conv1.append(int(m['value']))\n",
    "                    test_val.append(int(m['value']))\n",
    "        if len(test_val) == 0:\n",
    "            conv1.append(0)\n",
    "\n",
    "conv2 = []\n",
    "for e in all_convs:\n",
    "    if str(e) == 'nan':\n",
    "        conv2.append(0)\n",
    "    else:\n",
    "        test_val=[]\n",
    "        for m in e:\n",
    "            for key, val in m.items():\n",
    "                if val == 'offsite_conversion.custom.2245672202417987':\n",
    "                    conv2.append(int(m['value']))\n",
    "                    test_val.append(int(m['value']))\n",
    "        if len(test_val) == 0:\n",
    "            conv2.append(0) \n",
    "\n",
    "df_res['request_send_all'] = conv1\n",
    "df_res['regconf'] = conv2\n",
    "\n",
    "df_res[['account_id', 'ad_name', 'adset_name', 'campaign_id', 'impressions','clicks', 'spend','cpm','request_send_all','regconf','publisher_platform']].to_excel('Facebook_Report_{}_{}.xlsx'.format(sdate,edate),index=False)\n",
    "df_res[['account_id', 'ad_name', 'adset_name', 'campaign_id', 'impressions','clicks', 'spend','cpm','request_send_all','regconf','publisher_platform']]"
   ]
  },
  {
   "cell_type": "code",
   "execution_count": null,
   "metadata": {},
   "outputs": [],
   "source": []
  },
  {
   "cell_type": "code",
   "execution_count": null,
   "metadata": {},
   "outputs": [],
   "source": []
  },
  {
   "cell_type": "code",
   "execution_count": null,
   "metadata": {},
   "outputs": [],
   "source": []
  },
  {
   "cell_type": "code",
   "execution_count": null,
   "metadata": {},
   "outputs": [],
   "source": []
  },
  {
   "cell_type": "code",
   "execution_count": null,
   "metadata": {},
   "outputs": [],
   "source": []
  },
  {
   "cell_type": "code",
   "execution_count": null,
   "metadata": {},
   "outputs": [],
   "source": []
  },
  {
   "cell_type": "code",
   "execution_count": null,
   "metadata": {},
   "outputs": [],
   "source": []
  },
  {
   "cell_type": "code",
   "execution_count": null,
   "metadata": {},
   "outputs": [],
   "source": []
  },
  {
   "cell_type": "code",
   "execution_count": null,
   "metadata": {},
   "outputs": [],
   "source": []
  },
  {
   "cell_type": "code",
   "execution_count": null,
   "metadata": {},
   "outputs": [],
   "source": []
  },
  {
   "cell_type": "code",
   "execution_count": null,
   "metadata": {},
   "outputs": [],
   "source": []
  },
  {
   "cell_type": "code",
   "execution_count": null,
   "metadata": {},
   "outputs": [],
   "source": []
  },
  {
   "cell_type": "code",
   "execution_count": null,
   "metadata": {},
   "outputs": [],
   "source": []
  },
  {
   "cell_type": "code",
   "execution_count": null,
   "metadata": {},
   "outputs": [],
   "source": []
  },
  {
   "cell_type": "code",
   "execution_count": null,
   "metadata": {},
   "outputs": [],
   "source": []
  },
  {
   "cell_type": "code",
   "execution_count": null,
   "metadata": {},
   "outputs": [],
   "source": []
  },
  {
   "cell_type": "code",
   "execution_count": null,
   "metadata": {},
   "outputs": [],
   "source": []
  },
  {
   "cell_type": "code",
   "execution_count": null,
   "metadata": {},
   "outputs": [],
   "source": []
  },
  {
   "cell_type": "code",
   "execution_count": null,
   "metadata": {},
   "outputs": [],
   "source": []
  },
  {
   "cell_type": "code",
   "execution_count": null,
   "metadata": {},
   "outputs": [],
   "source": []
  },
  {
   "cell_type": "code",
   "execution_count": null,
   "metadata": {},
   "outputs": [],
   "source": []
  },
  {
   "cell_type": "code",
   "execution_count": null,
   "metadata": {},
   "outputs": [],
   "source": []
  },
  {
   "cell_type": "code",
   "execution_count": null,
   "metadata": {},
   "outputs": [],
   "source": []
  },
  {
   "cell_type": "code",
   "execution_count": null,
   "metadata": {},
   "outputs": [],
   "source": []
  },
  {
   "cell_type": "code",
   "execution_count": null,
   "metadata": {},
   "outputs": [],
   "source": []
  },
  {
   "cell_type": "code",
   "execution_count": null,
   "metadata": {},
   "outputs": [],
   "source": []
  },
  {
   "cell_type": "code",
   "execution_count": null,
   "metadata": {},
   "outputs": [],
   "source": []
  },
  {
   "cell_type": "code",
   "execution_count": null,
   "metadata": {},
   "outputs": [],
   "source": []
  },
  {
   "cell_type": "code",
   "execution_count": null,
   "metadata": {},
   "outputs": [],
   "source": []
  }
 ],
 "metadata": {
  "kernelspec": {
   "display_name": "Python 3",
   "language": "python",
   "name": "python3"
  },
  "language_info": {
   "codemirror_mode": {
    "name": "ipython",
    "version": 3
   },
   "file_extension": ".py",
   "mimetype": "text/x-python",
   "name": "python",
   "nbconvert_exporter": "python",
   "pygments_lexer": "ipython3",
   "version": "3.6.8"
  }
 },
 "nbformat": 4,
 "nbformat_minor": 2
}
