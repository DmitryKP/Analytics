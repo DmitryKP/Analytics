{
 "cells": [
  {
   "cell_type": "code",
   "execution_count": null,
   "metadata": {},
   "outputs": [],
   "source": [
    "import requests\n",
    "import time\n",
    "from tqdm import tqdm_notebook\n",
    "\n",
    "import dill\n",
    "#dill.load_session('diag_vk.db')"
   ]
  },
  {
   "cell_type": "code",
   "execution_count": null,
   "metadata": {},
   "outputs": [],
   "source": [
    "import requests\n",
    "\n",
    "URL_req = \"https://api.vk.com/method/ads.getClients?v=5.41&access_token=xxx\"\n",
    "requests.get(URL_req).text"
   ]
  },
  {
   "cell_type": "code",
   "execution_count": null,
   "metadata": {},
   "outputs": [],
   "source": [
    "import json\n",
    "#https://vk.com/dev/ads.createTargetGroup\n",
    "access_token_my = 'xxx'\n",
    "vk_v='5.92'\n",
    "\n",
    "common_params = { 'account_id': xxx,\n",
    "                  'client_id': xxx,\n",
    "                  'name': 'Тестовая для Триггер схемы',\n",
    "                  'lifetime': 30,\n",
    "                  'access_token': access_token_my,\n",
    "                  'v':vk_v}\n",
    "url = 'https://api.vk.com/method/ads.createTargetGroup'\n",
    "#url = 'https://api.vk.com/method/ads.getClients'\n",
    "resp = requests.get(url,params = common_params)\n",
    "resp.json()"
   ]
  },
  {
   "cell_type": "code",
   "execution_count": null,
   "metadata": {},
   "outputs": [],
   "source": [
    "#https://vk.com/dev/ads.importTargetContacts\n",
    "\n",
    "import json\n",
    "\n",
    "access_token_my = 'xxx'\n",
    "vk_v='5.92'\n",
    "\n",
    "common_params = { 'account_id': xxx,\n",
    "                  'client_id': xxx,\n",
    "                  'access_token': access_token_my,\n",
    "                  'target_group_id': xxx,\n",
    "                  'contacts':['test1@mail.ru','test2@mail.ru','test3@mail.ru'],\n",
    "                  'v':vk_v}\n",
    "url = 'https://api.vk.com/method/ads.importTargetContacts'\n",
    "#url = 'https://api.vk.com/method/ads.getClients'\n",
    "resp = requests.get(url,params = common_params)\n",
    "resp.json()"
   ]
  },
  {
   "cell_type": "code",
   "execution_count": null,
   "metadata": {},
   "outputs": [],
   "source": [
    "#https://vk.com/dev/ads.createAds тут создавать объявления с таргетом"
   ]
  },
  {
   "cell_type": "code",
   "execution_count": null,
   "metadata": {},
   "outputs": [],
   "source": [
    "import hashlib \n",
    "  \n",
    "hashlib.md5('GeeksfgfgffgggggggfdfdgggggggorGeeks'.encode('utf-8')).hexdigest()"
   ]
  },
  {
   "cell_type": "code",
   "execution_count": null,
   "metadata": {},
   "outputs": [],
   "source": [
    "hashlib.sha256('GeeksfgfgffgggggggfdfdgggggggorGeeks'.encode('utf-8')).hexdigest()"
   ]
  },
  {
   "cell_type": "code",
   "execution_count": null,
   "metadata": {},
   "outputs": [],
   "source": [
    "\n"
   ]
  },
  {
   "cell_type": "code",
   "execution_count": null,
   "metadata": {},
   "outputs": [],
   "source": []
  }
 ],
 "metadata": {
  "kernelspec": {
   "display_name": "Python 3",
   "language": "python",
   "name": "python3"
  },
  "language_info": {
   "codemirror_mode": {
    "name": "ipython",
    "version": 3
   },
   "file_extension": ".py",
   "mimetype": "text/x-python",
   "name": "python",
   "nbconvert_exporter": "python",
   "pygments_lexer": "ipython3",
   "version": "3.6.8"
  }
 },
 "nbformat": 4,
 "nbformat_minor": 2
}
