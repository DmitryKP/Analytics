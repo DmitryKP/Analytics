{
 "cells": [
  {
   "cell_type": "code",
   "execution_count": null,
   "metadata": {},
   "outputs": [],
   "source": [
    "import hashlib\n",
    "import cx_Oracle\n",
    "import pandas as pd\n",
    "import datetime\n",
    "import yaaudience"
   ]
  },
  {
   "cell_type": "code",
   "execution_count": null,
   "metadata": {},
   "outputs": [],
   "source": [
    "c_ya_token = 'xxx'\n",
    "\n",
    "ya = yaaudience.YaAudience(token=c_ya_token)\n",
    "ya_segments = ya.segments()"
   ]
  },
  {
   "cell_type": "code",
   "execution_count": null,
   "metadata": {},
   "outputs": [],
   "source": [
    "for e in ya_segments:\n",
    "    print(e)"
   ]
  },
  {
   "cell_type": "code",
   "execution_count": null,
   "metadata": {},
   "outputs": [],
   "source": [
    "c_ya_token = 'xxx'\n",
    "c_data_filename = \"data_from_db.csv\"\n",
    "c_clear_data_filename = \"data_treated.csv\"\n",
    "\n",
    "# Parameters, CHANGE IT for your purpose\n",
    "p_segment_name = 'email_test1'\n",
    "\n",
    "p_data_type = 'crm' # use one of {'phone', 'email', 'mac'}\n",
    "p_data_hashed = True # use True of False"
   ]
  },
  {
   "cell_type": "code",
   "execution_count": null,
   "metadata": {},
   "outputs": [],
   "source": [
    "df = pd.read_csv(c_data_filename, header=None, dtype='str')\n",
    "df = df.applymap(lambda x: x.lower()) #transform entire dataframe to lowercase\n",
    "\n",
    "if p_data_type == 'phone':    \n",
    "    df = df.replace('[^\\d.]+', '',regex=True)\n",
    "elif p_data_type == 'mac':        \n",
    "    df = df.replace('[;:,-\\.]+', '',regex=True)    \n",
    "\n",
    "if p_data_hashed:\n",
    "    if p_data_type != 'mac':\n",
    "        df = df.applymap(lambda x: hashlib.md5(x.encode('utf-8')).hexdigest()) \n",
    "    else:\n",
    "        df = df.applymap(lambda x: hashlib.md5(bytes.fromhex(x)).hexdigest()) \n",
    "\n",
    "df.to_csv(c_clear_data_filename, sep=',', header=False, index=False)  "
   ]
  },
  {
   "cell_type": "code",
   "execution_count": null,
   "metadata": {},
   "outputs": [],
   "source": [
    "pd.read_csv('data_new_from_db.csv').head()"
   ]
  },
  {
   "cell_type": "code",
   "execution_count": null,
   "metadata": {},
   "outputs": [],
   "source": []
  },
  {
   "cell_type": "code",
   "execution_count": null,
   "metadata": {},
   "outputs": [],
   "source": []
  },
  {
   "cell_type": "code",
   "execution_count": null,
   "metadata": {},
   "outputs": [],
   "source": []
  },
  {
   "cell_type": "code",
   "execution_count": null,
   "metadata": {},
   "outputs": [],
   "source": [
    "pd.read_excel('data_new.xlsx').to_csv('data_new_from_db.csv', sep=',',index=False)\n",
    "\n",
    "#'email', 'phone', 'ext_id' нужны названия столбцов в таком порядке\n",
    "with open(\"data_new_from_db.csv\", \"r\") as myfile:\n",
    "    text=myfile.read()\n",
    "\n",
    "text_fin = []\n",
    "for index, e in enumerate(text.split('\\n')):\n",
    "    new_line=[]\n",
    "    for word in e.split(','):\n",
    "        new_line.append('\"'+ word + '\"')\n",
    "        if index == 0:\n",
    "            new_line_1 = ','.join(new_line) + ','\n",
    "        else:\n",
    "            new_line_1 = ','.join(new_line)\n",
    "    if len(new_line_1) > 5:\n",
    "        text_fin.append(new_line_1)\n",
    "        \n",
    "MyFile=open('segment_yandex.txt','w')\n",
    "\n",
    "for element in text_fin:\n",
    "    MyFile.write(element)\n",
    "    MyFile.write('\\n')\n",
    "MyFile.close()"
   ]
  },
  {
   "cell_type": "code",
   "execution_count": null,
   "metadata": {},
   "outputs": [],
   "source": []
  },
  {
   "cell_type": "code",
   "execution_count": null,
   "metadata": {},
   "outputs": [],
   "source": [
    "ya = yaaudience.YaAudience(token=c_ya_token, debug=False)\n",
    "\n",
    "ya_segment_confirmed = None\n",
    "with open('segment_yandex.txt', 'r') as data_file:\n",
    "    ya_segment_file_uploaded = ya.segments_upload_file(data_file)\n",
    "    print(ya_segment_file_uploaded)"
   ]
  },
  {
   "cell_type": "code",
   "execution_count": null,
   "metadata": {},
   "outputs": [],
   "source": [
    "p_data_hashed = False\n",
    "\n",
    "ya_segment_confirmed = ya.segment_confirm(segment_id=ya_segment_file_uploaded.id, \n",
    "                                          segment_name=p_segment_name, \n",
    "                                          content_type=p_data_type, \n",
    "                                          hashed=p_data_hashed)\n",
    "print(ya_segment_confirmed)"
   ]
  },
  {
   "cell_type": "code",
   "execution_count": null,
   "metadata": {},
   "outputs": [],
   "source": [
    "import json\n",
    "\n",
    "data = {}\n",
    "data['people'] = []\n",
    "data['people'].append({\n",
    "    'name': 'Scott',\n",
    "    'website': 'stackabuse.com',\n",
    "    'from': 'Nebraska'\n",
    "})\n",
    "data['people'].append({\n",
    "    'name': 'Larry',\n",
    "    'website': 'google.com',\n",
    "    'from': 'Michigan'\n",
    "})\n",
    "data['people'].append({\n",
    "    'name': 'Tim',\n",
    "    'website': 'apple.com',\n",
    "    'from': 'Alabama'\n",
    "})\n",
    "\n",
    "with open('data.txt', 'w') as outfile:\n",
    "    json.dump(data, outfile)"
   ]
  },
  {
   "cell_type": "code",
   "execution_count": null,
   "metadata": {},
   "outputs": [],
   "source": [
    "import json\n",
    "with open('data.json', encoding='utf-8') as f:\n",
    "    f_json = json.load(f)"
   ]
  },
  {
   "cell_type": "code",
   "execution_count": null,
   "metadata": {},
   "outputs": [],
   "source": [
    "f_json"
   ]
  },
  {
   "cell_type": "code",
   "execution_count": null,
   "metadata": {},
   "outputs": [],
   "source": [
    "import json\n",
    "\n",
    "data = {}\n",
    "data['0'] = 'external_id,email'\n",
    "data['1'] = '0,test@mail.ru'\n",
    "\n",
    "data = {'external_id,email,rets':'0,te3st@mail.ru'}\n",
    "\n",
    "jsonfile = open('filenew.json', 'w')\n",
    "with open('data.json', 'w') as outfile:\n",
    "    json.dump(data, outfile)\n",
    "\n",
    "import json\n",
    "with open('data.json', encoding='utf-8') as f:\n",
    "    f_json = json.load(f)\n",
    "f_json"
   ]
  },
  {
   "cell_type": "code",
   "execution_count": null,
   "metadata": {},
   "outputs": [],
   "source": [
    "ya = yaaudience.YaAudience(token=c_ya_token, debug=False)\n",
    "\n",
    "ya_segment_confirmed = None\n",
    "with open('data.json', 'r') as data_file:\n",
    "    ya_segment_file_uploaded = ya.segments_upload_file(data_file)\n",
    "    print(ya_segment_file_uploaded)"
   ]
  },
  {
   "cell_type": "code",
   "execution_count": null,
   "metadata": {},
   "outputs": [],
   "source": []
  },
  {
   "cell_type": "code",
   "execution_count": null,
   "metadata": {},
   "outputs": [],
   "source": []
  },
  {
   "cell_type": "code",
   "execution_count": null,
   "metadata": {},
   "outputs": [],
   "source": []
  }
 ],
 "metadata": {
  "kernelspec": {
   "display_name": "Python 3",
   "language": "python",
   "name": "python3"
  },
  "language_info": {
   "codemirror_mode": {
    "name": "ipython",
    "version": 3
   },
   "file_extension": ".py",
   "mimetype": "text/x-python",
   "name": "python",
   "nbconvert_exporter": "python",
   "pygments_lexer": "ipython3",
   "version": "3.6.8"
  }
 },
 "nbformat": 4,
 "nbformat_minor": 2
}
