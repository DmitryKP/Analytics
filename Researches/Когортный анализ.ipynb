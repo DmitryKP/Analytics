{
 "cells": [
  {
   "cell_type": "markdown",
   "metadata": {},
   "source": [
    "# Дневные когорты"
   ]
  },
  {
   "cell_type": "code",
   "execution_count": null,
   "metadata": {},
   "outputs": [],
   "source": [
    "import pyodbc\n",
    "import pandas as pd\n",
    "import numpy as np\n",
    "from google.cloud import bigquery\n",
    "import dill\n",
    "from tqdm import tqdm_notebook\n",
    "from datetime import datetime\n",
    "from datetime import date\n",
    "from datetime import timedelta\n",
    "import warnings\n",
    "warnings.filterwarnings('ignore')\n",
    "\n",
    "\n",
    "client = bigquery.Client.from_service_account_json(r'xxx.json')\n",
    "print('Укажите день базовой когорты в формате \"20190901\"')\n",
    "start_period = str(input())\n",
    "all_per = []\n",
    "\n",
    "q_statga_first = (\"SELECT DISTINCT(clientid) FROM `api-open-broker.108613784.ga_sessions_*`, UNNEST(hits) AS hits WHERE _TABLE_SUFFIX = '{}' AND  hits.page.pagePath LIKE '%opentrainer%'\".format(start_period))\n",
    "qs_j = client.query(q_statga_first)\n",
    "first_cohort_clids = qs_j.to_dataframe()\n",
    "first_cohort_clids_list0 = [ \"'\"+str(e)+\"'\" for e in list(first_cohort_clids['clientid'])]\n",
    "first_cohort_clids_list = ', '.join(first_cohort_clids_list0)\n",
    "\n",
    "len_cohs = []\n",
    "len_cohs.append(first_cohort_clids.shape[0])\n",
    "\n",
    "len_period = int(input())\n",
    "for e in range(1,len_period+1):\n",
    "    all_per.append((datetime.strptime(start_period, '%Y%m%d') + timedelta(e)).strftime('%Y%m%d'))\n",
    "    \n"
   ]
  },
  {
   "cell_type": "code",
   "execution_count": null,
   "metadata": {},
   "outputs": [],
   "source": [
    "for m in tqdm_notebook(all_per):\n",
    "    QUERY1 = (\"SELECT DISTINCT(clientid) FROM `api-open-broker.108613784.ga_sessions_*`, UNNEST(hits) AS hits WHERE _TABLE_SUFFIX = '{}' AND  hits.page.pagePath LIKE '%opentrainer%' AND clientid IN ({})\".format(m,first_cohort_clids_list))\n",
    "    query_job1 = client.query(QUERY1)\n",
    "    df_all = query_job1.to_dataframe()\n",
    "    len_cohs.append(df_all.shape[0])\n",
    "\n",
    "df_len = pd.DataFrame({'Длина когорты':len_cohs}).reset_index()\n",
    "df_len.rename(columns={'index': 'День'}, inplace=True)\n",
    "df_len['%'] = df_len['Длина когорты']*100/first_cohort_clids.shape[0]\n",
    "df_len"
   ]
  },
  {
   "cell_type": "code",
   "execution_count": null,
   "metadata": {},
   "outputs": [],
   "source": [
    "df_len.head(10)"
   ]
  },
  {
   "cell_type": "markdown",
   "metadata": {},
   "source": [
    "# Недельные и месячные когорты"
   ]
  },
  {
   "cell_type": "code",
   "execution_count": null,
   "metadata": {},
   "outputs": [],
   "source": [
    "import pyodbc\n",
    "import pandas as pd\n",
    "import numpy as np\n",
    "from google.cloud import bigquery\n",
    "import dill\n",
    "from tqdm import tqdm_notebook\n",
    "from datetime import datetime\n",
    "from datetime import date\n",
    "from datetime import timedelta\n",
    "import warnings\n",
    "warnings.filterwarnings('ignore')\n",
    "\n",
    "\n",
    "client = bigquery.Client.from_service_account_json(r'api-open-broker-85cd95f295fc.json')\n",
    "print('Укажите день начала и конца базовой когорты в формате \"20190901\"')\n",
    "start_period = str(input())\n",
    "end_period = str(input())\n",
    "all_per = []\n",
    "\n",
    "q_statga_first = (\"SELECT DISTINCT(clientid) FROM `api-open-broker.108613784.ga_sessions_*`, UNNEST(hits) AS hits WHERE _TABLE_SUFFIX BETWEEN '{}' AND '{}' AND  hits.page.pagePath LIKE '%opentrainer%'\".format(start_period,end_period))\n",
    "qs_j = client.query(q_statga_first)\n",
    "first_cohort_clids = qs_j.to_dataframe()\n",
    "first_cohort_clids_list0 = [ \"'\"+str(e)+\"'\" for e in list(first_cohort_clids['clientid'])]\n",
    "first_cohort_clids_list = ', '.join(first_cohort_clids_list0)\n",
    "len_cohs = []\n",
    "len_cohs.append(first_cohort_clids.shape[0])\n",
    "\n",
    "print('Укажите какие когорты брать - недельные или месячные. Напишите: month или week')\n",
    "mode=str(input())\n",
    "print('Укажите длительность горизонта')\n",
    "len_period = int(input())\n",
    "start_per = []\n",
    "end_per = []\n",
    "for e in range(1,len_period+1):\n",
    "    if mode == 'week':\n",
    "        start_per.append((datetime.strptime(start_period, '%Y%m%d') + timedelta(e*7)).strftime('%Y%m%d'))\n",
    "        end_per.append((datetime.strptime(end_period, '%Y%m%d') + timedelta(e*7)).strftime('%Y%m%d'))\n",
    "    if mode == 'month':\n",
    "        start_per.append((datetime.strptime(start_period, '%Y%m%d') + timedelta(e*30)).strftime('%Y%m%d'))\n",
    "        end_per.append((datetime.strptime(end_period, '%Y%m%d') + timedelta(e*30)).strftime('%Y%m%d'))"
   ]
  },
  {
   "cell_type": "code",
   "execution_count": null,
   "metadata": {},
   "outputs": [],
   "source": [
    "for index,m in tqdm_notebook(enumerate(start_per)):\n",
    "    QUERY1 = (\"SELECT DISTINCT(clientid) FROM `api-open-broker.108613784.ga_sessions_*`, UNNEST(hits) AS hits WHERE _TABLE_SUFFIX BETWEEN '{}' AND '{}' AND  hits.page.pagePath LIKE '%opentrainer%' AND clientid IN ({})\".format(m,end_per[index],first_cohort_clids_list))\n",
    "    query_job1 = client.query(QUERY1)\n",
    "    df_all = query_job1.to_dataframe()\n",
    "    len_cohs.append(df_all.shape[0])\n",
    "\n",
    "df_len = pd.DataFrame({'Длина когорты':len_cohs}).reset_index()\n",
    "df_len.rename(columns={'index': mode}, inplace=True)\n",
    "df_len['%'] = df_len['Длина когорты']*100/first_cohort_clids.shape[0]\n",
    "df_len.head(10)"
   ]
  },
  {
   "cell_type": "code",
   "execution_count": null,
   "metadata": {},
   "outputs": [],
   "source": []
  },
  {
   "cell_type": "code",
   "execution_count": null,
   "metadata": {},
   "outputs": [],
   "source": []
  },
  {
   "cell_type": "code",
   "execution_count": null,
   "metadata": {},
   "outputs": [],
   "source": []
  },
  {
   "cell_type": "code",
   "execution_count": null,
   "metadata": {},
   "outputs": [],
   "source": []
  },
  {
   "cell_type": "code",
   "execution_count": null,
   "metadata": {},
   "outputs": [],
   "source": []
  },
  {
   "cell_type": "code",
   "execution_count": null,
   "metadata": {},
   "outputs": [],
   "source": []
  },
  {
   "cell_type": "code",
   "execution_count": null,
   "metadata": {},
   "outputs": [],
   "source": []
  },
  {
   "cell_type": "code",
   "execution_count": null,
   "metadata": {},
   "outputs": [],
   "source": []
  }
 ],
 "metadata": {
  "kernelspec": {
   "display_name": "Python 3",
   "language": "python",
   "name": "python3"
  },
  "language_info": {
   "codemirror_mode": {
    "name": "ipython",
    "version": 3
   },
   "file_extension": ".py",
   "mimetype": "text/x-python",
   "name": "python",
   "nbconvert_exporter": "python",
   "pygments_lexer": "ipython3",
   "version": "3.6.8"
  }
 },
 "nbformat": 4,
 "nbformat_minor": 2
}
