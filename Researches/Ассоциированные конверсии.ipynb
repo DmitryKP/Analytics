{
 "cells": [
  {
   "cell_type": "code",
   "execution_count": null,
   "metadata": {},
   "outputs": [],
   "source": [
    "import pyodbc\n",
    "import pandas as pd\n",
    "import numpy as np\n",
    "from google.cloud import bigquery\n",
    "import dill\n",
    "from tqdm import tqdm_notebook\n",
    "from datetime import datetime\n",
    "from datetime import date\n",
    "from datetime import timedelta\n",
    "import warnings\n",
    "import pickle\n",
    "warnings.filterwarnings('ignore')\n",
    "\n",
    "\n",
    "client = bigquery.Client.from_service_account_json(r'xxx.json')\n",
    "print('Укажи начало периода окна в формате \"20190101\"')\n",
    "start_period = str(input())\n",
    "print('Укажи конец периода окна в формате \"20191201\"')\n",
    "end_period = str(input())\n",
    "start_periodmin1 = (datetime.strptime(start_period, '%Y%m%d') - timedelta(1)).strftime('%Y%m%d')\n",
    "q_statga_end_start = (\"SELECT DISTINCT * FROM (SELECT date, fullVisitorId, visitId, TIMESTAMP_SECONDS(visitStartTime) as starttime_UTC, hits.page.pagePath, trafficSource.source, trafficSource.medium, trafficSource.campaign, COALESCE(hits.eventInfo.eventCategory,'PageView') as ev_type, hits.eventInfo.eventAction, clientID, device.deviceCategory FROM `api-open-broker.108613784.ga_sessions_*`, UNNEST(hits) AS hits WHERE _TABLE_SUFFIX BETWEEN '{}' AND '{}' AND date != '20190909' AND clientid IN (SELECT DISTINCT(clientid) FROM `api-open-broker.108613784.ga_sessions_*`, UNNEST(hits) AS hits WHERE _TABLE_SUFFIX BETWEEN '{}' AND '{}' AND clientid IN (SELECT DISTINCT(clientid) FROM `api-open-broker.108613784.ga_sessions_*`, UNNEST(hits) AS hits WHERE _TABLE_SUFFIX BETWEEN '{}' AND '{}' AND ((hits.eventInfo.eventCategory = 'clients' AND hits.eventInfo.eventAction = 'nk') OR (hits.eventInfo.eventCategory = 'leads' AND hits.eventInfo.eventAction LIKE 'new_contact%') OR hits.eventInfo.eventCategory = 'request_send_all') AND clientid NOT IN (SELECT DISTINCT(clientid) FROM `api-open-broker.108613784.ga_sessions_*`, UNNEST(hits) AS hits WHERE _TABLE_SUFFIX BETWEEN '{}' AND '{}' AND clientid IN (SELECT DISTINCT(clientid) FROM `api-open-broker.108613784.ga_sessions_*`, UNNEST(hits) AS hits WHERE _TABLE_SUFFIX BETWEEN '20150101' AND '{}')))) ORDER BY fullVisitorId, starttime_UTC ASC)\").format(start_period,end_period,start_period,end_period,start_period,end_period,start_period,end_period,start_periodmin1)\n",
    "#q_statga = (\"SELECT DISTINCT * FROM (SELECT date, fullVisitorId, visitId, TIMESTAMP_SECONDS(visitStartTime) as starttime_UTC, hits.page.pagePath, trafficSource.source, trafficSource.medium, trafficSource.campaign, COALESCE(hits.eventInfo.eventCategory,'PageView') as ev_type, hits.eventInfo.eventAction, clientID, device.deviceCategory FROM `api-open-broker.108613784.ga_sessions_*`, UNNEST(hits) AS hits WHERE _TABLE_SUFFIX BETWEEN '{}' AND FORMAT_DATE('%Y%m%d',DATE_SUB(CURRENT_DATE(), INTERVAL 1 DAY)) AND date != '20190909' AND clientid IN (SELECT DISTINCT(clientid) FROM `api-open-broker.108613784.ga_sessions_*`, UNNEST(hits) AS hits WHERE _TABLE_SUFFIX BETWEEN '{}' AND FORMAT_DATE('%Y%m%d',DATE_SUB(CURRENT_DATE(), INTERVAL 1 DAY)) AND clientid IN (SELECT DISTINCT(clientid) FROM `api-open-broker.108613784.ga_sessions_*`, UNNEST(hits) AS hits WHERE _TABLE_SUFFIX BETWEEN '{}' AND FORMAT_DATE('%Y%m%d',DATE_SUB(CURRENT_DATE(), INTERVAL 1 DAY)) AND ((hits.eventInfo.eventCategory = 'clients' AND hits.eventInfo.eventAction = 'nk') OR (hits.eventInfo.eventCategory = 'leads' AND hits.eventInfo.eventAction LIKE 'new_contact%') OR hits.eventInfo.eventCategory = 'request_send_all') AND clientid NOT IN (SELECT DISTINCT(clientid) FROM `api-open-broker.108613784.ga_sessions_*`, UNNEST(hits) AS hits WHERE _TABLE_SUFFIX BETWEEN '{}' AND FORMAT_DATE('%Y%m%d',DATE_SUB(CURRENT_DATE(), INTERVAL 1 DAY)) AND clientid IN (SELECT DISTINCT(clientid) FROM `api-open-broker.108613784.ga_sessions_*`, UNNEST(hits) AS hits WHERE _TABLE_SUFFIX BETWEEN '20150101' AND '{}')))) ORDER BY fullVisitorId, starttime_UTC ASC)\").format(start_period,start_period,start_period,start_period,start_periodmin1)\n",
    "#q_statga = (\"SELECT DISTINCT * FROM (SELECT date, fullVisitorId, visitId, TIMESTAMP_SECONDS(visitStartTime) as starttime_UTC, hits.page.pagePath, trafficSource.source, trafficSource.medium, trafficSource.campaign, COALESCE(hits.eventInfo.eventCategory,'PageView') as ev_type, hits.eventInfo.eventAction, clientID, device.deviceCategory FROM `api-open-broker.108613784.ga_sessions_*`, UNNEST(hits) AS hits WHERE _TABLE_SUFFIX BETWEEN '{}' AND '20190601' AND date != '20190909' AND clientid IN (SELECT DISTINCT(clientid) FROM `api-open-broker.108613784.ga_sessions_*`, UNNEST(hits) AS hits WHERE _TABLE_SUFFIX BETWEEN '{}' AND '20190601' AND clientid IN (SELECT DISTINCT(clientid) FROM `api-open-broker.108613784.ga_sessions_*`, UNNEST(hits) AS hits WHERE _TABLE_SUFFIX BETWEEN '{}' AND '20190601' AND ((hits.eventInfo.eventCategory = 'clients' AND hits.eventInfo.eventAction = 'nk') OR (hits.eventInfo.eventCategory = 'leads' AND hits.eventInfo.eventAction LIKE 'new_contact%') OR hits.eventInfo.eventCategory = 'request_send_all') AND clientid NOT IN (SELECT DISTINCT(clientid) FROM `api-open-broker.108613784.ga_sessions_*`, UNNEST(hits) AS hits WHERE _TABLE_SUFFIX BETWEEN '{}' AND '20190601' AND clientid IN (SELECT DISTINCT(clientid) FROM `api-open-broker.108613784.ga_sessions_*`, UNNEST(hits) AS hits WHERE _TABLE_SUFFIX BETWEEN '20150101' AND '{}')))) ORDER BY fullVisitorId, starttime_UTC ASC)\").format(start_period,start_period,start_period,start_period,start_periodmin1)\n",
    "\n",
    "q_j_statga = client.query(q_statga_end_start)\n",
    "statga = q_j_statga.to_dataframe()\n",
    "statga.fillna(0,inplace=True)\n",
    "statga['sourcemedium'] = statga['source'].astype(str) + statga['medium'].astype(str)\n",
    "statga.sort_values(['clientID','starttime_UTC'], ascending=[False,True], inplace=True)\n",
    "\n",
    "#statga[(statga['clientID'].str.contains('315691920.1550135471',na=False))]"
   ]
  },
  {
   "cell_type": "code",
   "execution_count": null,
   "metadata": {},
   "outputs": [],
   "source": [
    "connection_DB_CRM = pyodbc.connect(Trusted_Connection='yes', driver = '{SQL Server}',server = 'BD-SRV-DWH' , database = 'OpenDWH')\n",
    "sql_crm=\"SELECT * FROM [datamartMarketing].[vwCrmProspect] WHERE date_creation >= '2019-01-01'\"\n",
    "SQL_CRM_all = pd.read_sql(sql_crm,connection_DB_CRM)\n",
    "\n",
    "coub_old = pd.read_excel(r'C:\\Users\\korpachev\\BI_Reports\\Coub1_2016_2018.xlsx').fillna(0)\n",
    "coub_new = pd.read_excel(r'C:\\Users\\korpachev\\BI_Reports\\Coub1_2019.xlsx').fillna(0)\n",
    "coub_new['Месяц'] = coub_new['Месяц'].apply(lambda x: str(x).replace(' 2019',''))\n",
    "coub_total = pd.concat([coub_old, coub_new], axis=0)\n"
   ]
  },
  {
   "cell_type": "code",
   "execution_count": null,
   "metadata": {},
   "outputs": [],
   "source": [
    "nk = set(coub_total[(coub_total['К-во персон 5 - 50 т.р.'] == 1)&(coub_total['Год'] == 2019)]['GUID'])\n",
    "coub_tot_ui = set(SQL_CRM_all[SQL_CRM_all['GUID'].isin(nk)]['cookie_id'])"
   ]
  },
  {
   "cell_type": "code",
   "execution_count": null,
   "metadata": {},
   "outputs": [],
   "source": [
    "len(nk)  #число уник гуид нк в кубе"
   ]
  },
  {
   "cell_type": "code",
   "execution_count": null,
   "metadata": {},
   "outputs": [],
   "source": [
    "SQL_CRM_all[SQL_CRM_all['GUID'].isin(nk)]['GUID'].nunique() #число уник гуид нк в crm"
   ]
  },
  {
   "cell_type": "code",
   "execution_count": null,
   "metadata": {},
   "outputs": [],
   "source": [
    "len(coub_tot_ui) #число смэченных уник клидов нк в crm"
   ]
  },
  {
   "cell_type": "code",
   "execution_count": null,
   "metadata": {},
   "outputs": [],
   "source": [
    "stat_gr = statga.groupby('clientID').agg({'sourcemedium': list, 'ev_type': list}).reset_index()\n",
    "stat_gr['ev_type_str'] = stat_gr['ev_type'].astype(str)\n",
    "stat_gr = stat_gr[stat_gr['ev_type_str'].str.contains('request_send_all')].drop('ev_type_str', axis=1)\n",
    "stat_gr.shape"
   ]
  },
  {
   "cell_type": "code",
   "execution_count": null,
   "metadata": {},
   "outputs": [],
   "source": [
    "stat_gr_nk = stat_gr[stat_gr['clientID'].isin(coub_tot_ui)]\n",
    "stat_gr_nk.shape"
   ]
  },
  {
   "cell_type": "code",
   "execution_count": null,
   "metadata": {},
   "outputs": [],
   "source": [
    "stat_gr_nk['index'] = stat_gr_nk['ev_type'].apply(lambda x: x.index(\"request_send_all\"))"
   ]
  },
  {
   "cell_type": "code",
   "execution_count": null,
   "metadata": {},
   "outputs": [],
   "source": [
    "from itertools import groupby\n",
    "indexes = list(stat_gr_nk['index'])\n",
    "\n",
    "list_chains = []\n",
    "for i,e in enumerate(list(stat_gr_nk['sourcemedium'])):\n",
    "    l1 = [m[0] for m in groupby(e[0:indexes[i]+1])]\n",
    "    list_chains.append(l1)"
   ]
  },
  {
   "cell_type": "code",
   "execution_count": null,
   "metadata": {},
   "outputs": [],
   "source": [
    "from statistics import mean \n",
    "from collections import Counter\n",
    "import numpy as np\n",
    "from numpy import median\n",
    "\n",
    "dict_zayvki = dict.fromkeys(list(set(np.concatenate(list_chains,axis=0))), [])\n",
    "for key in dict_zayvki:\n",
    "    dict_zayvki[key] = []\n",
    "    \n",
    "dict_firstzayvka = dict.fromkeys(list(set(np.concatenate(list_chains,axis=0))), [])\n",
    "for key in dict_firstzayvka:\n",
    "    dict_firstzayvka[key] = []\n",
    "    \n",
    "dict_touches = dict.fromkeys(list(set(np.concatenate(list_chains,axis=0))), [])\n",
    "for key in dict_touches:\n",
    "    dict_touches[key] = []\n",
    "\n",
    "dict_first = dict.fromkeys(list(set(np.concatenate(list_chains,axis=0))), [])\n",
    "for key in dict_first:\n",
    "    dict_first[key] = []\n",
    "    \n",
    "dict_lastnondirect = dict.fromkeys(list(set(np.concatenate(list_chains,axis=0))), [])\n",
    "for key in dict_lastnondirect:\n",
    "    dict_lastnondirect[key] = []"
   ]
  },
  {
   "cell_type": "code",
   "execution_count": null,
   "metadata": {},
   "outputs": [],
   "source": [
    "fg = ['yandex','google','direct']\n",
    "for i1, k in enumerate(fg[::-1]):\n",
    "    if k.count('irec') == 0:\n",
    "        break\n",
    "fg = fg[::-1][i1:][::-1]\n",
    "fg[-1]"
   ]
  },
  {
   "cell_type": "code",
   "execution_count": null,
   "metadata": {},
   "outputs": [],
   "source": [
    "for e in list_chains:\n",
    "    for i1, k in enumerate(e[::-1]):\n",
    "        if k.count('irec') == 0:\n",
    "            break\n",
    "    e = e[::-1][i1:][::-1]\n",
    "    \n",
    "    dict_zayvki[e[-1]].append(1)\n",
    "    dict_firstzayvka[e[0]].append(1)\n",
    "    \n",
    "    for k in e:\n",
    "        dict_touches[k].append(1)\n",
    "\n",
    "    e_fc = e\n",
    "    df_fc = 1/sum([i/np.exp(i) for i in range(1,len(e_fc)+1)])\n",
    "    values_l_fc = [(i/np.exp(i))*df_fc for i in range(1,len(e_fc)+1)]\n",
    "    for index,m in enumerate(e_fc):\n",
    "        dict_first[m].append(values_l_fc[index])\n",
    "    \n",
    "    e_lsc = e[::-1]\n",
    "    df_lsc = 1/sum([i/np.exp(i) for i in range(1,len(e_lsc)+1)])\n",
    "    values_l_lsc = [(i/np.exp(i))*df_lsc for i in range(1,len(e_lsc)+1)]\n",
    "    for index,m in enumerate(e_lsc):\n",
    "        dict_lastnondirect[m].append(values_l_lsc[index])\n"
   ]
  },
  {
   "cell_type": "code",
   "execution_count": null,
   "metadata": {},
   "outputs": [],
   "source": [
    "e = ['yandex','google','direct']\n",
    "e_lsc = e[::-1]\n",
    "df_lsc = 1/sum([i/np.exp(i) for i in range(1,len(e_lsc)+1)])\n",
    "values_l_lsc = [(i/np.exp(i))*df_lsc for i in range(1,len(e_lsc)+1)]\n",
    "values_l_lsc"
   ]
  },
  {
   "cell_type": "code",
   "execution_count": null,
   "metadata": {},
   "outputs": [],
   "source": []
  },
  {
   "cell_type": "code",
   "execution_count": null,
   "metadata": {},
   "outputs": [],
   "source": [
    "df_z = pd.Series(dict_zayvki, index=dict_zayvki.keys()).reset_index().rename(columns={ 0: 'Zayavki'})\n",
    "df_fz = pd.Series(dict_firstzayvka, index=dict_firstzayvka.keys()).reset_index().rename(columns={ 0: 'First_Zayvka'})\n",
    "df_touches = pd.Series(dict_touches, index=dict_touches.keys()).reset_index().rename(columns={ 0: 'Touches'})\n",
    "df_fc = pd.Series(dict_first, index=dict_first.keys()).reset_index().rename(columns={ 0: 'FC'})\n",
    "df_lcs = pd.Series(dict_lastnondirect, index=dict_lastnondirect.keys()).reset_index().rename(columns={ 0: 'LFC'})"
   ]
  },
  {
   "cell_type": "code",
   "execution_count": null,
   "metadata": {},
   "outputs": [],
   "source": [
    "df_all = df_z.merge(df_fc,on='index',how='left').merge(df_lcs,on='index',how='left').merge(df_touches,on='index',how='left').merge(df_fz,on='index',how='left')"
   ]
  },
  {
   "cell_type": "code",
   "execution_count": null,
   "metadata": {},
   "outputs": [],
   "source": []
  },
  {
   "cell_type": "code",
   "execution_count": null,
   "metadata": {},
   "outputs": [],
   "source": [
    "df_all['Touches_Total'] = df_all['Touches'].apply(lambda x: sum(x))\n",
    "df_all['Zayavki_Total'] = df_all['Zayavki'].apply(lambda x: sum(x))\n",
    "df_all['First_Zayavki_Total'] = df_all['First_Zayvka'].apply(lambda x: sum(x))\n",
    "df_all['FC_Total'] = df_all['FC'].apply(lambda x: median(x))\n",
    "df_all['LFC_Total'] = df_all['LFC'].apply(lambda x: median(x))"
   ]
  },
  {
   "cell_type": "code",
   "execution_count": null,
   "metadata": {},
   "outputs": [],
   "source": [
    "df_Old_SourceMedium = pd.read_excel(r'C:\\Users\\korpachev\\BI_Reports\\Sprаvochnik_Old_SourceMedium.xlsx')\n",
    "df_New_SourceMedium = pd.read_excel(r'C:\\Users\\korpachev\\BI_Reports\\Sprаvochnik_New_SourceMedium.xlsx')\n",
    "df_spravochnik_all_campaigns = pd.read_excel(r'C:\\Users\\korpachev\\BI_Reports\\Sprаvochnik_All_Campaigns.xlsx')\n",
    "df_group_campaigns = pd.read_excel(r'C:\\Users\\korpachev\\BI_Reports\\Sprаvochnik_Group_by_Campaigns.xlsx')\n",
    "\n",
    "df_all = df_all.rename(columns={'index': 'SourceMedium'}).merge(df_Old_SourceMedium,on='SourceMedium',how='left').rename(columns={'SourceMedium_Type': 'Источник по старому'}).merge(df_New_SourceMedium,on='Источник по старому',how='left')"
   ]
  },
  {
   "cell_type": "code",
   "execution_count": null,
   "metadata": {},
   "outputs": [],
   "source": [
    "df_all.groupby('Источник по новому').agg({'Touches_Total':'sum','Zayavki_Total':'sum','First_Zayavki_Total':'sum','FC_Total':'median','LFC_Total':'median'}).to_excel('Ассоциированные конверсии.xlsx')"
   ]
  },
  {
   "cell_type": "code",
   "execution_count": null,
   "metadata": {},
   "outputs": [],
   "source": [
    "\n"
   ]
  },
  {
   "cell_type": "code",
   "execution_count": null,
   "metadata": {},
   "outputs": [],
   "source": []
  },
  {
   "cell_type": "code",
   "execution_count": null,
   "metadata": {},
   "outputs": [],
   "source": []
  }
 ],
 "metadata": {
  "kernelspec": {
   "display_name": "Python 3",
   "language": "python",
   "name": "python3"
  },
  "language_info": {
   "codemirror_mode": {
    "name": "ipython",
    "version": 3
   },
   "file_extension": ".py",
   "mimetype": "text/x-python",
   "name": "python",
   "nbconvert_exporter": "python",
   "pygments_lexer": "ipython3",
   "version": "3.6.8"
  }
 },
 "nbformat": 4,
 "nbformat_minor": 2
}
