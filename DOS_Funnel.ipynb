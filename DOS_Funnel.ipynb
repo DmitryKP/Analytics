{
 "cells": [
  {
   "cell_type": "markdown",
   "metadata": {},
   "source": [
    "# Воронка BIGQUERY"
   ]
  },
  {
   "cell_type": "markdown",
   "metadata": {},
   "source": [
    "Выгрузка данных по всем переходам"
   ]
  },
  {
   "cell_type": "code",
   "execution_count": null,
   "metadata": {},
   "outputs": [],
   "source": [
    "from google.cloud import bigquery\n",
    "import pandas as pd\n",
    "import statistics as st\n",
    "import re\n",
    "import warnings\n",
    "import numpy as np\n",
    "warnings.filterwarnings(\"ignore\")\n",
    "client = bigquery.Client.from_service_account_json(r'xxxx.json')\n",
    "\n",
    "QUERY_GA_PAGES = (\"WITH DF_log AS (SELECT * FROM (SELECT date, clientID, pagePath, IFNULL(prev_pagepath, 'Прямой переход') AS prev_pagepath, deviceCategory, hitTimeMoscow FROM (SELECT date, clientID, hits.page.pagePath AS pagePath, LAG(hits.page.pagePath) OVER (PARTITION BY fullVisitorId ORDER BY visitStartTime) AS prev_pagepath, device.deviceCategory, FORMAT_TIMESTAMP('%F %X', TIMESTAMP_MILLIS(visitstarttime*1000 + time), 'Europe/Moscow') as hitTimeMoscow FROM `api-open-broker.108613784.ga_sessions_*`, UNNEST(hits) AS hits WHERE _TABLE_SUFFIX BETWEEN '20200113' AND FORMAT_DATE('%Y%m%d',DATE_SUB(CURRENT_DATE(), INTERVAL 1 DAY)) AND hits.type = 'PAGE' )) WHERE pagePath LIKE '%roa%' AND prev_pagepath NOT LIKE '%roa%' ORDER BY clientID, hitTimeMoscow), DF_new AS (SELECT clientID, hit_NewUser FROM (SELECT clientID, hit_NewUser, row_number() OVER (PARTITION BY clientID ORDER BY hit_NewUser)  AS NewUser_Range FROM (SELECT clientID, FORMAT_TIMESTAMP('%F %X', TIMESTAMP_MILLIS(visitstarttime*1000 + time), 'Europe/Moscow') as hit_NewUser, FROM `api-open-broker.108613784.ga_sessions_*`, UNNEST(hits) AS hits WHERE _TABLE_SUFFIX BETWEEN '20200113' AND FORMAT_DATE('%Y%m%d',DATE_SUB(CURRENT_DATE(), INTERVAL 1 DAY)) AND hits.eventInfo.eventCategory = 'DOS2_smsdos2new')) WHERE NewUser_Range = 1), DF_return AS (SELECT clientID, hit_OldUser FROM (SELECT clientID, hit_OldUser, eventCategory, row_number() OVER (PARTITION BY clientID ORDER BY hit_OldUser)  AS OldUser_Range FROM (SELECT clientID, hits.eventInfo.eventCategory, FORMAT_TIMESTAMP('%F %X', TIMESTAMP_MILLIS(visitstarttime*1000 + time), 'Europe/Moscow') as hit_OldUser, FROM `api-open-broker.108613784.ga_sessions_*`, UNNEST(hits) AS hits WHERE _TABLE_SUFFIX BETWEEN '20200113' AND FORMAT_DATE('%Y%m%d',DATE_SUB(CURRENT_DATE(), INTERVAL 1 DAY)) AND hits.eventInfo.eventCategory LIKE 'DOS2_smsdos2%' AND hits.eventInfo.eventCategory NOT LIKE '%new%')) WHERE OldUser_Range = 1), DF_step1 AS (SELECT clientID, hit_Step1 FROM (SELECT clientID, hit_Step1, eventCategory, row_number() OVER (PARTITION BY clientID ORDER BY hit_Step1)  AS OldUser_Range FROM (SELECT clientID, hits.eventInfo.eventCategory, FORMAT_TIMESTAMP('%F %X', TIMESTAMP_MILLIS(visitstarttime*1000 + time), 'Europe/Moscow') as hit_Step1, FROM `api-open-broker.108613784.ga_sessions_*`, UNNEST(hits) AS hits WHERE _TABLE_SUFFIX BETWEEN '20200113' AND FORMAT_DATE('%Y%m%d',DATE_SUB(CURRENT_DATE(), INTERVAL 1 DAY)) AND hits.eventInfo.eventCategory LIKE '%step-1%' )) WHERE OldUser_Range = 1) SELECT * FROM DF_log LEFT JOIN DF_new USING(clientID) LEFT JOIN DF_return USING(clientID) LEFT JOIN DF_step1 USING(clientID) ORDER BY clientID, hitTimeMoscow\")\n",
    "QUERY_GA_PAGES_job = client.query(QUERY_GA_PAGES)\n",
    "df_pages = QUERY_GA_PAGES_job.to_dataframe()"
   ]
  },
  {
   "cell_type": "markdown",
   "metadata": {},
   "source": [
    "Процессинг данных для того, чтобы разделить в дальнейшем пользователей на сегменты"
   ]
  },
  {
   "cell_type": "code",
   "execution_count": null,
   "metadata": {},
   "outputs": [],
   "source": [
    "df_pages['date'] = pd.to_datetime(df_pages['date'])\n",
    "df_pages['st'] = df_pages['date'].dt.to_period('W').apply(lambda r: r.start_time).dt.date#.apply(lambda x: '-'.join(str(x)[5:].split('-')[::-1]))\n",
    "df_pages['en'] = df_pages['date'].dt.to_period('W').apply(lambda r: r.end_time).dt.date#.apply(lambda x: '-'.join(str(x)[5:].split('-')[::-1]))\n",
    "df_pages['week'] = df_pages['st'].astype(str) + ' / ' + df_pages['en'].astype(str)\n",
    "df_pages.drop(['st','en'], axis=1, inplace=True)\n",
    "df_pages['year'] = pd.DatetimeIndex(df_pages['date']).year\n",
    "df_pages['month'] = pd.DatetimeIndex(df_pages['date']).month\n",
    "\n",
    "df_pages_no_events = df_pages[(df_pages['hit_NewUser'].isnull())&(df_pages['hit_OldUser'].isnull())&(df_pages['hit_Step1'].isnull())][['clientID', 'date', 'pagePath', 'prev_pagepath', 'deviceCategory', 'week', 'year', 'month']]\n",
    "df_pages_no_events['type'] = 'no_interaction'\n",
    "\n",
    "df_pages = df_pages[(~df_pages['hit_NewUser'].isnull())|(~df_pages['hit_OldUser'].isnull())|(~df_pages['hit_Step1'].isnull())]\n",
    "df_pages['hitTimeMoscow'] = pd.to_datetime(df_pages['hitTimeMoscow'])\n",
    "df_pages['hit_NewUser'] = pd.to_datetime(df_pages['hit_NewUser']).fillna(pd.to_datetime('1900-01-01 00:00:00'))\n",
    "df_pages['hit_OldUser'] = pd.to_datetime(df_pages['hit_OldUser']).fillna(pd.to_datetime('1900-01-01 00:00:00'))\n",
    "df_pages['hit_Step1'] = pd.to_datetime(df_pages['hit_Step1']).fillna(pd.to_datetime('1900-01-01 00:00:00'))\n"
   ]
  },
  {
   "cell_type": "markdown",
   "metadata": {},
   "source": [
    "Сегментация"
   ]
  },
  {
   "cell_type": "code",
   "execution_count": null,
   "metadata": {},
   "outputs": [],
   "source": [
    "df_pages['diff_hits-newUser'] = np.where((df_pages['hitTimeMoscow'] >= df_pages['hit_NewUser']), 'После new user', 'До new user')\n",
    "df_pages['diff_hits-retUser'] = np.where((df_pages['hitTimeMoscow'] >= df_pages['hit_OldUser']), 'После ret user', 'До ret user')\n",
    "df_pages['diff_hits-step1'] = np.where((df_pages['hitTimeMoscow'] >= df_pages['hit_Step1']), 'После step1', 'До step1')\n",
    "\n",
    "\n",
    "df_pages_new = df_pages[df_pages['diff_hits-newUser'] == 'До new user'][['clientID', 'date', 'pagePath', 'prev_pagepath', 'deviceCategory', 'week', 'year', 'month']]\n",
    "df_pages_new['type'] = 'new'\n",
    "\n",
    "df_pages_returned = df_pages[(df_pages['diff_hits-newUser'] == 'После new user')&(df_pages['diff_hits-retUser'] == 'До ret user')][['clientID', 'date', 'pagePath', 'prev_pagepath', 'deviceCategory', 'week', 'year', 'month']]\n",
    "df_pages_returned['type'] = 'returned'\n",
    "\n",
    "df_pages_step1 = df_pages[(df_pages['diff_hits-step1'] == 'До step1')&(~df_pages['clientID'].isin(set(df_pages_new['clientID'])))&(~df_pages['clientID'].isin(set(df_pages_returned['clientID'])))][['clientID', 'date', 'pagePath', 'prev_pagepath', 'deviceCategory', 'week', 'year', 'month']]\n",
    "df_pages_step1['type'] = 'only step1'\n",
    "\n"
   ]
  },
  {
   "cell_type": "markdown",
   "metadata": {},
   "source": [
    "Унификация урлов и нейминг сегментов"
   ]
  },
  {
   "cell_type": "code",
   "execution_count": null,
   "metadata": {},
   "outputs": [],
   "source": [
    "pages_all = pd.concat([df_pages_new,df_pages_returned,df_pages_step1,df_pages_no_events],axis=0)\n",
    "\n",
    "list_bq=list(pages_all['prev_pagepath'])\n",
    "unique_match_bq=[]\n",
    "for tempos_re in list_bq:\n",
    "    tempos_re1=re.sub(r'((\\?|\\#|welcome&|utm|csi&|vas&pact|~).+|\\#|\\?|lp\\/3\\.0\\/|lp\\/|undefined)','', str(tempos_re))\n",
    "    if tempos_re1 != 'Прямой переход':\n",
    "        if tempos_re1[len(tempos_re1)-1]=='/':\n",
    "            tempos_re_fin=str(tempos_re1)\n",
    "        elif tempos_re1[len(tempos_re1)-1]=='/' and tempos_re1[len(tempos_re1)-2]=='/':\n",
    "            tempos_re_fin=str(tempos_re1)[0:len(str(tempos_re1))-1]\n",
    "        else:\n",
    "            tempos_re_fin=str(tempos_re1)+'/'\n",
    "        tempos_re_fin_1=re.sub(r'\\/\\/|\\/\\s\\/','/', str(tempos_re_fin))\n",
    "        tempos_re_fin_2_1=re.sub(r'.ru/ru/','.ru/', str(tempos_re_fin_1))\n",
    "        tempos_re_fin_2_2=re.sub(r'(\\/faq).+|(\\/faq)','/faq/', str(tempos_re_fin_2_1))\n",
    "        tempos_re_fin_2=re.sub(r'(\\/event\\-).+','/event/',str(tempos_re_fin_2_2))\n",
    "        tempos_re_fin_2_3=re.sub(r'(\\/issuers).+|(\\/issuers)','/issuers/', str(tempos_re_fin_2))\n",
    "        unique_match_bq.append(tempos_re_fin_2_3)\n",
    "    else:\n",
    "        unique_match_bq.append('Прямой переход')\n",
    "pages_all['prev_pagepath'] = unique_match_bq\n",
    "\n",
    "dict_stages_for_pages = {'only step1': 'Дошел только до заполнения общей информации',\n",
    "               'new':'Отправил СМС - Новый',\n",
    "               'returned':'Отправил СМС - Вернувшийся',\n",
    "               'no_interaction':'Пришел и не взаимодействовал'}\n",
    "\n",
    "pages_all_gr = pages_all.groupby(['year','week','type','prev_pagepath','deviceCategory'])['clientID'].nunique().to_frame().reset_index()\n",
    "pages_all_gr.replace({\"type\": dict_stages_for_pages},inplace=True)\n"
   ]
  },
  {
   "cell_type": "markdown",
   "metadata": {},
   "source": [
    "Создание структуры под Metabase"
   ]
  },
  {
   "cell_type": "code",
   "execution_count": null,
   "metadata": {},
   "outputs": [],
   "source": [
    "pages_all_gr1 = pages_all_gr.copy()\n",
    "pages_all_gr1['type_page'] = pages_all_gr1['type']\n",
    "pages_all_gr1['type'] = '00. Пришло на ДОС'\n",
    "pages_all_gr1['agg_type'] = 'Общий (по умолчанию)'\n",
    "\n",
    "pages_all_gr2 = pages_all_gr[pages_all_gr['type'] == 'Пришел и не взаимодействовал']\n",
    "pages_all_gr2['type_page'] = 'Ячейка не используется'\n",
    "pages_all_gr2['type'] = '00.1 Пришло на ДОС и не взаимодействовало ни с одним этапом'\n",
    "pages_all_gr2['agg_type'] = 'Добавить детальный срез'\n",
    "\n",
    "pages_all_gr3 = pages_all_gr[pages_all_gr['type'].str.contains('Отправил|Дошел')]\n",
    "pages_all_gr3['type_page'] = 'Ячейка не используется'\n",
    "pages_all_gr3['type'] = '01. Заполнило форму общей информации'\n",
    "pages_all_gr3['agg_type'] = 'Общий (по умолчанию)'\n",
    "\n",
    "pages_all_gr4 = pages_all_gr[pages_all_gr['type'] == 'Дошел только до заполнения общей информации']\n",
    "pages_all_gr4['type_page'] = 'Ячейка не используется'\n",
    "pages_all_gr4['type'] = '01.1 Заполнило форму общей информации, но не отправило СМС'\n",
    "pages_all_gr4['agg_type'] = 'Добавить детальный срез'\n",
    "\n",
    "pages_all_gr5 = pages_all_gr[pages_all_gr['type'].str.contains('Отправил')]\n",
    "pages_all_gr5['type_page'] = 'Ячейка не используется'\n",
    "pages_all_gr5['type'] = '02. Отправило СМС всего'\n",
    "pages_all_gr5['agg_type'] = 'Общий (по умолчанию)'\n",
    "\n",
    "pages_all_gr6 = pages_all_gr[pages_all_gr['type'] == 'Отправил СМС - Новый']\n",
    "pages_all_gr6['type_page'] = 'Ячейка не используется'\n",
    "pages_all_gr6['type'] = '02.1 Отправило СМС - новых'\n",
    "pages_all_gr6['agg_type'] = 'Добавить детальный срез'\n",
    "\n",
    "pages_all_gr7 = pages_all_gr[pages_all_gr['type'] == 'Отправил СМС - Вернувшийся']\n",
    "pages_all_gr7['type_page'] = 'Ячейка не используется'\n",
    "pages_all_gr7['type'] = '02.2 Отправило СМС - вернувшихся'\n",
    "pages_all_gr7['agg_type'] = 'Добавить детальный срез'\n",
    "\n",
    "\n",
    "pages_all_gr = pd.concat([pages_all_gr1, pages_all_gr2, pages_all_gr3,pages_all_gr4, pages_all_gr5, pages_all_gr6,pages_all_gr7], axis=0)\n",
    "pages_all_gr = pages_all_gr[['year','week','type','type_page','prev_pagepath','deviceCategory','clientID','agg_type']]"
   ]
  },
  {
   "cell_type": "code",
   "execution_count": null,
   "metadata": {},
   "outputs": [],
   "source": []
  },
  {
   "cell_type": "markdown",
   "metadata": {},
   "source": [
    "# Внутренняя воронка и кубовая воронка"
   ]
  },
  {
   "cell_type": "markdown",
   "metadata": {},
   "source": [
    "Выгрузка данных по всем событиям во внутренней воронке"
   ]
  },
  {
   "cell_type": "code",
   "execution_count": null,
   "metadata": {},
   "outputs": [],
   "source": [
    "import pyodbc\n",
    "from datetime import datetime\n",
    "import datetime\n",
    "import numpy as np\n",
    "\n",
    "connection_DB_CRM = pyodbc.connect(Trusted_Connection='yes', driver = '{SQL Server}', server = 'xxx' , database = 'xxx')\n",
    "sql_crm=\"SELECT * FROM [datamartMarketing].[vwCrmProspect] WHERE date_creation >= '2019.09.01'\"\n",
    "SQL_CRM_all = pd.read_sql(sql_crm,connection_DB_CRM)\n",
    "\n",
    "QUERY_STAGES = (\"SELECT date, clientID, fullVisitorId, visitId, visitStartTime, TIMESTAMP_SECONDS(visitStartTime) as visit_starttime_UTC, hits.time, CONCAT(cast(trafficSource.source as string),cast(trafficSource.medium as string)) as sourcemedium, trafficSource.campaign as campaign, device.deviceCategory as device, hits.eventInfo.eventCategory AS stage FROM `api-open-broker.108613784.ga_sessions_*`, UNNEST(hits) AS hits WHERE _TABLE_SUFFIX BETWEEN '201900901' AND FORMAT_DATE('%Y%m%d',DATE_SUB(CURRENT_DATE(), INTERVAL 1 DAY)) AND (hits.eventInfo.eventCategory LIKE '%Stage_DOS2%' OR (hits.eventInfo.eventCategory LIKE 'DOS2_%' AND hits.eventInfo.eventCategory LIKE '%eg') OR hits.eventInfo.eventCategory LIKE '%StageDOS_2_docs%') ORDER BY clientID\")\n",
    "QUERY_GA_STAGES = client.query(QUERY_STAGES)\n",
    "df_stages = QUERY_GA_STAGES.to_dataframe()\n",
    "df_stages['stage'] = df_stages['stage'].apply(lambda x: x.replace('Stage_DOS2 |',''))"
   ]
  },
  {
   "cell_type": "markdown",
   "metadata": {},
   "source": [
    "Процессинг данных"
   ]
  },
  {
   "cell_type": "code",
   "execution_count": null,
   "metadata": {},
   "outputs": [],
   "source": [
    "df_stages['date'] = pd.to_datetime(df_stages['date'])\n",
    "df_stages['st'] = df_stages['date'].dt.to_period('W').apply(lambda r: r.start_time).dt.date#.apply(lambda x: '-'.join(str(x)[5:].split('-')[::-1]))\n",
    "df_stages['en'] = df_stages['date'].dt.to_period('W').apply(lambda r: r.end_time).dt.date#.apply(lambda x: '-'.join(str(x)[5:].split('-')[::-1]))\n",
    "df_stages['week'] = df_stages['st'].astype(str) + ' / ' + df_stages['en'].astype(str)\n",
    "df_stages.drop(['st','en'], axis=1,inplace=True)\n",
    "df_stages['year'] = pd.DatetimeIndex(df_stages['date']).year\n",
    "df_stages['month'] = pd.DatetimeIndex(df_stages['date']).month\n",
    "\n",
    "df_stages.loc[df_stages.stage.str.contains('DOS2_PartReg'), 'stage'] = ' step-2'\n",
    "df_stages.loc[df_stages.stage.str.contains('StageDOS_2_docs'), 'stage'] = ' step-8'\n",
    "df_stages.loc[df_stages.stage.str.contains('DOS2_Fullreg'), 'stage'] = ' step-9'\n",
    "df_stages_time = df_stages[['year','week','fullVisitorId','visitId','time','stage']]\n",
    "\n",
    "\n",
    "dict_stages = {' step-1':'01. Оставило заявку',\n",
    "               ' step-2':'02. Подтвердило СМС (новых или вернувшихся)',\n",
    "               ' step-3':'03. Заполнило анкету (вручную или через Госуслуги)',\n",
    "               ' step-4':'04. Зарегистрировало ЛК',\n",
    "               ' step-5':'05. Заполнило риск профиль',\n",
    "               ' step-6':'06. Загрузило скан паспорта',\n",
    "               ' step-7':'07. Выбрало тариф/продукт',\n",
    "               ' step-8':'08. Сформировало документы',\n",
    "               ' step-9':'09. Подписало документы'}\n",
    "df_stages.replace({\"stage\": dict_stages},inplace=True)\n",
    "\n",
    "\n",
    "df_stages_gr = df_stages.groupby(['year','week','stage','device'])['clientID'].nunique().to_frame().reset_index()\n",
    "df_stages_gr['type_page'] = 'Ячейка не используется'\n",
    "df_stages_gr['prev_pagepath'] = 'Ячейка не используется'\n",
    "df_stages_gr = df_stages_gr[~df_stages_gr['stage'].str.contains('01.|02.')]\n",
    "df_stages_gr = df_stages_gr[['year','week','stage','type_page','prev_pagepath','device','clientID']]"
   ]
  },
  {
   "cell_type": "markdown",
   "metadata": {},
   "source": [
    "Получение и процессинг данных из куба по воронкам, построенным по принципам OLDBI и NEWBI"
   ]
  },
  {
   "cell_type": "code",
   "execution_count": null,
   "metadata": {},
   "outputs": [],
   "source": [
    "import win32com.client\n",
    "\n",
    "office = win32com.client.Dispatch(\"Excel.Application\")\n",
    "wb = office.Workbooks.Open(r'C:\\Users\\korpachev\\BI_Reports\\Coub1_2020_DOS2_backs.xlsx')\n",
    "wb.RefreshAll()\n",
    "wb.Save()\n",
    "wb.Close()\n",
    "coub = pd.read_excel(r'C:\\Users\\korpachev\\BI_Reports\\Coub1_2020_DOS2_backs.xlsx').fillna(0)\n",
    "\n",
    "clids_all = df_stages[df_stages['stage'] == '09. Подписало документы'][['clientID','device']].rename(columns={'clientID': 'cookie_id'})\n",
    "guids_all = SQL_CRM_all.merge(clids_all,on='cookie_id',how='left')\n",
    "guids_all = guids_all[~guids_all['device'].isnull()][['GUID','cookie_id','device']].drop_duplicates()\n",
    "\n",
    "\n",
    "\n",
    "coub_nd = coub[coub['Дата активации'].str.contains('2019-09|2019-10|2019-11|2019-12|2020-|2021-|2022-',na=False)]\n",
    "coub_nd['Дата активации'] = pd.to_datetime(coub_nd['Дата активации'])\n",
    "coub_nd['st'] = coub_nd['Дата активации'].dt.to_period('W').apply(lambda r: r.start_time).dt.date#.apply(lambda x: '-'.join(str(x)[5:].split('-')[::-1]))\n",
    "coub_nd['en'] = coub_nd['Дата активации'].dt.to_period('W').apply(lambda r: r.end_time).dt.date#.apply(lambda x: '-'.join(str(x)[5:].split('-')[::-1]))\n",
    "coub_nd['week'] = coub_nd['st'].astype(str) + ' / ' + coub_nd['en'].astype(str)\n",
    "coub_nd.drop(['st','en'], axis=1,inplace=True)\n",
    "coub_nd['year'] = pd.DatetimeIndex(coub_nd['Дата активации']).year\n",
    "\n",
    "coub_nd_gr = coub_nd.groupby(['year','week','GUID']).count().reset_index().merge(guids_all,on='GUID',how='left')\n",
    "coub_nd_gr = coub_nd_gr[~coub_nd_gr['device'].isnull()].groupby(['year','week','device'])['GUID'].count().reset_index()\n",
    "coub_nd_gr['stage'] = '10.1 Активировано договоров за этот период всего'\n",
    "coub_nd_gr = coub_nd_gr[['year','week','stage','device','GUID']]\n",
    "\n",
    "\n",
    "coub_nk = coub[(coub['Дата'].str.contains('2019-09|2019-10|2019-11|2019-12|2020-|2021-|2022-',na=False))&(coub['К-во персон 5 - 50 т.р.'] >= 1)]\n",
    "coub_nk['Дата'] = pd.to_datetime(coub_nk['Дата'])\n",
    "coub_nk['st'] = coub_nk['Дата'].dt.to_period('W').apply(lambda r: r.start_time).dt.date#.apply(lambda x: '-'.join(str(x)[5:].split('-')[::-1]))\n",
    "coub_nk['en'] = coub_nk['Дата'].dt.to_period('W').apply(lambda r: r.end_time).dt.date#.apply(lambda x: '-'.join(str(x)[5:].split('-')[::-1]))\n",
    "coub_nk['week'] = coub_nk['st'].astype(str) + ' / ' + coub_nk['en'].astype(str)\n",
    "coub_nk.drop(['st','en'], axis=1,inplace=True)\n",
    "coub_nk['year'] = pd.DatetimeIndex(coub_nk['Дата']).year\n",
    "\n",
    "coub_nk_gr = coub_nk.groupby(['year','week','GUID']).count().reset_index().merge(guids_all,on='GUID',how='left')\n",
    "coub_nk_gr = coub_nk_gr[~coub_nk_gr['device'].isnull()].groupby(['year','week','device'])['GUID'].count().reset_index()\n",
    "coub_nk_gr['stage'] = '11.1 Стало НК 5-50 за этот период всего'\n",
    "coub_nk_gr = coub_nk_gr[['year','week','stage','device','GUID']]\n",
    "\n",
    "\n",
    "\n",
    "base_oldbitype_df = df_stages[df_stages['stage'] == '09. Подписало документы'][['year','week','device','clientID']].rename(columns={'clientID': 'cookie_id'})\n",
    "base_oldbitype_df = base_oldbitype_df.merge(guids_all,on='cookie_id',how='left')\n",
    "\n",
    "coub_nd_gr0 = base_oldbitype_df[~base_oldbitype_df['GUID'].isnull()].merge(coub_nd,on='GUID',how='left')\n",
    "coub_nd_gr0 = coub_nd_gr0[~coub_nd_gr0['week_y'].isnull()].groupby(['year_x','week_x','device_x'])['cookie_id'].nunique().reset_index()\n",
    "coub_nd_gr0['stage'] = '10.2 Активировано договоров из пользователей, пришедших в этот период'\n",
    "coub_nd_gr0 = coub_nd_gr0[['year_x', 'week_x', 'stage','device_x', 'cookie_id' ]]\n",
    "\n",
    "coub_nk_gr0 = base_oldbitype_df[~base_oldbitype_df['GUID'].isnull()].merge(coub_nk,on='GUID',how='left')\n",
    "coub_nk_gr0 = coub_nk_gr0[~coub_nk_gr0['week_y'].isnull()].groupby(['year_x','week_x','device_x'])['cookie_id'].nunique().reset_index()\n",
    "coub_nk_gr0['stage'] = '11.2 Стало НК 5-50 из пользователей, пришедших в этот период'\n",
    "coub_nk_gr0 = coub_nk_gr0[['year_x', 'week_x', 'stage','device_x', 'cookie_id' ]]\n",
    "\n",
    "ob_funnel = pd.concat([coub_nd_gr0, coub_nk_gr0], axis=0)\n",
    "ob_funnel.columns = coub_nk_gr.columns\n",
    "all_funnel_types = pd.concat([ob_funnel, coub_nd_gr,coub_nk_gr], axis=0, ignore_index=True).rename(columns={'GUID': 'clientID'})\n",
    "all_funnel_types['type_page'] = 'Ячейка не используется'\n",
    "all_funnel_types['prev_pagepath'] = 'Ячейка не используется'\n",
    "all_funnel_types = all_funnel_types[['year','week','stage','type_page','prev_pagepath','device','clientID']]"
   ]
  },
  {
   "cell_type": "markdown",
   "metadata": {},
   "source": [
    "Объединение кубовой и внутренней воронок и переходов"
   ]
  },
  {
   "cell_type": "code",
   "execution_count": null,
   "metadata": {},
   "outputs": [],
   "source": [
    "df_stages_gr = pd.concat([df_stages_gr, all_funnel_types], axis=0)\n",
    "df_stages_gr['agg_type'] = 'Общий (по умолчанию)'\n",
    "pages_all_gr.columns = df_stages_gr.columns\n",
    "df_combined = pd.concat([pages_all_gr, df_stages_gr], axis=0, ignore_index=True)\n",
    "df_combined.rename(columns={'agg_type': 'widget'}, inplace=True)\n",
    "df_combined[['source', 'campaign', 'widget_class', 'widget_text', 'user_level']] = pd.DataFrame([['Ячейка не используется', 'Ячейка не используется', 'Ячейка не используется', 'Ячейка не используется', 'Ячейка не используется']], index=df_combined.index)\n",
    "df_combined = df_combined[['year', 'week','source', 'campaign', 'device', 'prev_pagepath','widget', 'widget_class','widget_text', 'stage', 'type_page','clientID','user_level']].fillna('Ячейка не используется')\n",
    "df_combined['source'] = df_combined['widget'].astype(str)\n"
   ]
  },
  {
   "cell_type": "markdown",
   "metadata": {},
   "source": [
    "Проверка данных"
   ]
  },
  {
   "cell_type": "code",
   "execution_count": null,
   "metadata": {},
   "outputs": [],
   "source": [
    "temp = df_combined.groupby(['year','week','stage'])['clientID'].sum().to_frame().reset_index()\n",
    "temp[temp['week'] == '2020-01-27 / 2020-02-02']"
   ]
  },
  {
   "cell_type": "code",
   "execution_count": null,
   "metadata": {},
   "outputs": [],
   "source": []
  },
  {
   "cell_type": "markdown",
   "metadata": {},
   "source": [
    "# Время прохождения этапов в воронке"
   ]
  },
  {
   "cell_type": "code",
   "execution_count": null,
   "metadata": {},
   "outputs": [],
   "source": [
    "df_stages_time['fullVisitorId_visitId'] = df_stages_time['fullVisitorId'].astype(str) + ' | ' + df_stages_time['visitId'].astype(str)\n",
    "\n",
    "\n",
    "time_df = pd.pivot_table(df_stages_time,index=['year','week','fullVisitorId_visitId'],columns='stage')['time'].reset_index().fillna(0)\n",
    "time_df['step2-step1'] = (time_df[' step-2'] - time_df[' step-1']).astype(int)/1000\n",
    "time_df['step3-step2'] = (time_df[' step-3'] - time_df[' step-2']).astype(int)/1000\n",
    "time_df['step4-step3'] = (time_df[' step-4'] - time_df[' step-3']).astype(int)/1000\n",
    "time_df['step5-step4'] = (time_df[' step-5'] - time_df[' step-4']).astype(int)/1000\n",
    "time_df['step6-step5'] = (time_df[' step-6'] - time_df[' step-5']).astype(int)/1000\n",
    "time_df['step7-step6'] = (time_df[' step-7'] - time_df[' step-6']).astype(int)/1000\n",
    "time_df['step8-step7'] = (time_df[' step-8'] - time_df[' step-7']).astype(int)/1000\n",
    "time_df['step9-step8'] = (time_df[' step-9'] - time_df[' step-8']).astype(int)/1000\n",
    "\n",
    "#time_df['Время прохождения этапа 1 в воронке'] = (time_df[' step-5'] - time_df[' step-1']).astype(int)/1000\n",
    "#time_df['Время прохождения этапа 2 в воронке'] = (time_df[' step-6'] - time_df[' step-5']).astype(int)/1000\n",
    "#time_df['Время прохождения этапа 3 в воронке'] = (time_df[' step-8'] - time_df[' step-6']).astype(int)/1000\n",
    "\n",
    "year_time = []\n",
    "week_time = []\n",
    "stage_time = []\n",
    "value_time = []\n",
    "for k in set(time_df['year']):\n",
    "    for m in set(time_df['week']):\n",
    "        for e in ['step2-step1', 'step3-step2', 'step4-step3', 'step5-step4','step6-step5', 'step7-step6', 'step8-step7', 'step9-step8']:\n",
    "            time_df_temp = time_df[(time_df['year'] == k)&(time_df['week'] == m)]\n",
    "            list_time_diff = [e for e in list(time_df_temp[e]) if e > 0]\n",
    "            if len(list_time_diff) > 0: \n",
    "                avg_col = st.mean(list_time_diff)\n",
    "            else:\n",
    "                avg_col = 0\n",
    "            year_time.append(k)\n",
    "            week_time.append(m)\n",
    "            stage_time.append(e)\n",
    "            value_time.append(int(avg_col))\n",
    "stages_time = pd.DataFrame({'year':year_time,'week':week_time,'stage':stage_time,'time':value_time})\n",
    "stages_time['stage'] = stages_time['stage'].apply(lambda x: x.replace('step',''))"
   ]
  },
  {
   "cell_type": "code",
   "execution_count": null,
   "metadata": {},
   "outputs": [],
   "source": []
  },
  {
   "cell_type": "markdown",
   "metadata": {},
   "source": [
    "# Подгрузка данных в metabase"
   ]
  },
  {
   "cell_type": "code",
   "execution_count": null,
   "metadata": {},
   "outputs": [],
   "source": [
    "import pyodbc\n",
    "\n",
    "def multiinsert(cnxn, cursor, selector, values_list):\n",
    "    for value in values_list:\n",
    "        cursor.execute(selector, value)\n",
    "        cnxn.commit()\n",
    "        \n",
    "cnxn = pyodbc.connect(Trusted_Connection='yes', driver = '{SQL Server}',server = 'xxx' , database = 'xxx')\n",
    "cursor = cnxn.cursor()\n",
    "dict_russian_month_reversed = {'Январь': 1,'Февраль': 2,'Март': 3,'Апрель': 4,'Май': 5,'Июнь': 6,'Июль': 7,'Август': 8,'Сентябрь': 9,'Октябрь': 10,'Ноябрь': 11,'Декабрь': 12}\n",
    "\n"
   ]
  },
  {
   "cell_type": "code",
   "execution_count": null,
   "metadata": {},
   "outputs": [],
   "source": [
    "list_of_tuples = [tuple(x) for x in df_combined.values]\n",
    "\n",
    "cursor.execute(\"DELETE FROM [MetabasePilot ].[Marketing].[DOS2_Stages_All]\")\n",
    "cnxn.commit()\n",
    "\n",
    "selector = '''\n",
    "INSERT INTO [MetabasePilot ].[Marketing].[DOS2_Stages_All]([year], [month], [source], [campaign], [device], [pagepath], [widget], [widget_class], [widget_text], [stage], [stage_gal], [count], [user_level])\n",
    "VALUES (?, ?, ?, ?, ?, ?, ?, ?, ?, ?, ?, ?, ?);\n",
    "'''  \n",
    "values_list = list_of_tuples\n",
    "\n",
    "multiinsert(cnxn, cursor, selector, values_list)\n",
    "\n",
    "if pd.read_sql(\"SELECT * FROM [MetabasePilot ].[Marketing].[DOS2_Stages_All]\", cnxn).shape == df_combined.shape:\n",
    "    print('Все ок')\n",
    "else:\n",
    "    print('Не мэчится')"
   ]
  },
  {
   "cell_type": "code",
   "execution_count": null,
   "metadata": {},
   "outputs": [],
   "source": []
  },
  {
   "cell_type": "code",
   "execution_count": null,
   "metadata": {},
   "outputs": [],
   "source": [
    "list_of_tuples = [tuple(x) for x in stages_time.values]\n",
    "\n",
    "cursor.execute(\"DELETE FROM [MetabasePilot ].[Marketing].[DOS2_Stages_Time]\")\n",
    "cnxn.commit()\n",
    "\n",
    "selector = '''\n",
    "INSERT INTO [MetabasePilot ].[Marketing].[DOS2_Stages_Time]([year], [month], [stage], [time])\n",
    "VALUES (?, ?, ?, ?);\n",
    "'''  \n",
    "values_list = list_of_tuples\n",
    "\n",
    "multiinsert(cnxn, cursor, selector, values_list)\n",
    "\n",
    "if pd.read_sql(\"SELECT * FROM [MetabasePilot ].[Marketing].[DOS2_Stages_Time]\", cnxn).shape == stages_time.shape:\n",
    "    print('Все ок')\n",
    "else:\n",
    "    print('Не мэчится')"
   ]
  },
  {
   "cell_type": "code",
   "execution_count": null,
   "metadata": {},
   "outputs": [],
   "source": []
  },
  {
   "cell_type": "code",
   "execution_count": null,
   "metadata": {},
   "outputs": [],
   "source": []
  },
  {
   "cell_type": "code",
   "execution_count": null,
   "metadata": {},
   "outputs": [],
   "source": []
  }
 ],
 "metadata": {
  "kernelspec": {
   "display_name": "Python 3",
   "language": "python",
   "name": "python3"
  },
  "language_info": {
   "codemirror_mode": {
    "name": "ipython",
    "version": 3
   },
   "file_extension": ".py",
   "mimetype": "text/x-python",
   "name": "python",
   "nbconvert_exporter": "python",
   "pygments_lexer": "ipython3",
   "version": "3.6.8"
  }
 },
 "nbformat": 4,
 "nbformat_minor": 2
}
